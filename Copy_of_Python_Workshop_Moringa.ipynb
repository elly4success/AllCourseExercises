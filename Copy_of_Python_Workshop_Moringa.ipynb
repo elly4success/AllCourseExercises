{
  "nbformat": 4,
  "nbformat_minor": 0,
  "metadata": {
    "colab": {
      "name": "Copy of Python Workshop@Moringa",
      "provenance": [],
      "include_colab_link": true
    },
    "kernelspec": {
      "name": "python3",
      "display_name": "Python 3"
    }
  },
  "cells": [
    {
      "cell_type": "markdown",
      "metadata": {
        "id": "view-in-github",
        "colab_type": "text"
      },
      "source": [
        "<a href=\"https://colab.research.google.com/github/elly4success/AllCourseExercises/blob/master/Copy_of_Python_Workshop_Moringa.ipynb\" target=\"_parent\"><img src=\"https://colab.research.google.com/assets/colab-badge.svg\" alt=\"Open In Colab\"/></a>"
      ]
    },
    {
      "cell_type": "code",
      "metadata": {
        "id": "mJMKW6uILYSr",
        "colab_type": "code",
        "cellView": "both",
        "outputId": "00fef305-549e-44b3-a572-30453c233947",
        "colab": {
          "base_uri": "https://localhost:8080/",
          "height": 231
        }
      },
      "source": [
        "List\n",
        "workshop = [\"Moringa\", \"School\", \"Ngong-Lane\", \"Learning\"]\n",
        "print(workshop)\n",
        "workshop[0]\n",
        "workshop[0:2]\n",
        "workshop.append('People')\n",
        "print(workshop)\n",
        "workshop.remove('Moringa')\n",
        "print(workshop)\n",
        "\n",
        "\n",
        "age = (100, 200, 300)\n",
        "type(age)"
      ],
      "execution_count": 1,
      "outputs": [
        {
          "output_type": "error",
          "ename": "NameError",
          "evalue": "ignored",
          "traceback": [
            "\u001b[0;31m---------------------------------------------------------------------------\u001b[0m",
            "\u001b[0;31mNameError\u001b[0m                                 Traceback (most recent call last)",
            "\u001b[0;32m<ipython-input-1-f0587dc1222e>\u001b[0m in \u001b[0;36m<module>\u001b[0;34m()\u001b[0m\n\u001b[0;32m----> 1\u001b[0;31m \u001b[0mList\u001b[0m\u001b[0;34m\u001b[0m\u001b[0;34m\u001b[0m\u001b[0m\n\u001b[0m\u001b[1;32m      2\u001b[0m \u001b[0mworkshop\u001b[0m \u001b[0;34m=\u001b[0m \u001b[0;34m[\u001b[0m\u001b[0;34m\"Moringa\"\u001b[0m\u001b[0;34m,\u001b[0m \u001b[0;34m\"School\"\u001b[0m\u001b[0;34m,\u001b[0m \u001b[0;34m\"Ngong-Lane\"\u001b[0m\u001b[0;34m,\u001b[0m \u001b[0;34m\"Learning\"\u001b[0m\u001b[0;34m]\u001b[0m\u001b[0;34m\u001b[0m\u001b[0;34m\u001b[0m\u001b[0m\n\u001b[1;32m      3\u001b[0m \u001b[0mprint\u001b[0m\u001b[0;34m(\u001b[0m\u001b[0mworkshop\u001b[0m\u001b[0;34m)\u001b[0m\u001b[0;34m\u001b[0m\u001b[0;34m\u001b[0m\u001b[0m\n\u001b[1;32m      4\u001b[0m \u001b[0mworkshop\u001b[0m\u001b[0;34m[\u001b[0m\u001b[0;36m0\u001b[0m\u001b[0;34m]\u001b[0m\u001b[0;34m\u001b[0m\u001b[0;34m\u001b[0m\u001b[0m\n\u001b[1;32m      5\u001b[0m \u001b[0mworkshop\u001b[0m\u001b[0;34m[\u001b[0m\u001b[0;36m0\u001b[0m\u001b[0;34m:\u001b[0m\u001b[0;36m2\u001b[0m\u001b[0;34m]\u001b[0m\u001b[0;34m\u001b[0m\u001b[0;34m\u001b[0m\u001b[0m\n",
            "\u001b[0;31mNameError\u001b[0m: name 'List' is not defined"
          ]
        }
      ]
    },
    {
      "cell_type": "markdown",
      "metadata": {
        "id": "NlUXKhkLXHmg",
        "colab_type": "text"
      },
      "source": [
        ""
      ]
    },
    {
      "cell_type": "markdown",
      "metadata": {
        "id": "cswyoDyPW87J",
        "colab_type": "text"
      },
      "source": [
        ""
      ]
    },
    {
      "cell_type": "code",
      "metadata": {
        "id": "t23gj57MV2ok",
        "colab_type": "code",
        "colab": {}
      },
      "source": [
        ""
      ],
      "execution_count": 0,
      "outputs": []
    },
    {
      "cell_type": "markdown",
      "metadata": {
        "id": "6Z9kNIP3V5Om",
        "colab_type": "text"
      },
      "source": [
        "Dict: Has keys and values"
      ]
    },
    {
      "cell_type": "code",
      "metadata": {
        "id": "Qh1R49lhV7X6",
        "colab_type": "code",
        "outputId": "803c10fb-f26d-4c12-dd89-35ba8e9f80d8",
        "colab": {
          "base_uri": "https://localhost:8080/",
          "height": 34
        }
      },
      "source": [
        "contact = {\"name\":\"Elly\",\n",
        "           \"phone\":\"0700501255\",\n",
        "           \"email\":\"ellyofficial2017@gmail.com\"}\n",
        "\n",
        "print(contact)\n"
      ],
      "execution_count": 2,
      "outputs": [
        {
          "output_type": "stream",
          "text": [
            "{'name': 'Elly', 'phone': '0700501255', 'email': 'ellyofficial2017@gmail.com'}\n"
          ],
          "name": "stdout"
        }
      ]
    },
    {
      "cell_type": "markdown",
      "metadata": {
        "id": "BN31dJfGXuew",
        "colab_type": "text"
      },
      "source": [
        "Using the \"get\" function"
      ]
    },
    {
      "cell_type": "code",
      "metadata": {
        "id": "40Zsa3A-X0Fu",
        "colab_type": "code",
        "outputId": "aecf6ac0-a139-45ce-e90a-d92f62999673",
        "colab": {
          "base_uri": "https://localhost:8080/",
          "height": 34
        }
      },
      "source": [
        "contact.get('email')"
      ],
      "execution_count": 3,
      "outputs": [
        {
          "output_type": "execute_result",
          "data": {
            "text/plain": [
              "'ellyofficial2017@gmail.com'"
            ]
          },
          "metadata": {
            "tags": []
          },
          "execution_count": 3
        }
      ]
    },
    {
      "cell_type": "markdown",
      "metadata": {
        "id": "-xYkW8WJYQFG",
        "colab_type": "text"
      },
      "source": [
        "Using the del function in dict(cant be used in List)"
      ]
    },
    {
      "cell_type": "markdown",
      "metadata": {
        "id": "HbxNio0DZL25",
        "colab_type": "text"
      },
      "source": [
        "syntax is del followed by var name and then the key or value"
      ]
    },
    {
      "cell_type": "code",
      "metadata": {
        "id": "xfj7KT-MYZsL",
        "colab_type": "code",
        "outputId": "fa5f2dc5-9488-4dfe-ae25-b9105ab0d8c0",
        "colab": {
          "base_uri": "https://localhost:8080/",
          "height": 34
        }
      },
      "source": [
        "\n",
        "print(contact)"
      ],
      "execution_count": 4,
      "outputs": [
        {
          "output_type": "stream",
          "text": [
            "{'name': 'Elly', 'phone': '0700501255', 'email': 'ellyofficial2017@gmail.com'}\n"
          ],
          "name": "stdout"
        }
      ]
    },
    {
      "cell_type": "markdown",
      "metadata": {
        "id": "h61wpSSrZYCj",
        "colab_type": "text"
      },
      "source": [
        "Set: eliminating duplicate"
      ]
    },
    {
      "cell_type": "code",
      "metadata": {
        "id": "NCJFNDpRZhbs",
        "colab_type": "code",
        "outputId": "0682ca64-9755-4b76-f30d-d7a429361d0a",
        "colab": {
          "base_uri": "https://localhost:8080/",
          "height": 34
        }
      },
      "source": [
        "num = [12,14, 14, 15, 16, 17, 22]\n",
        "new_num = set(num)\n",
        "print(new_num)"
      ],
      "execution_count": 5,
      "outputs": [
        {
          "output_type": "stream",
          "text": [
            "{12, 14, 15, 16, 17, 22}\n"
          ],
          "name": "stdout"
        }
      ]
    },
    {
      "cell_type": "code",
      "metadata": {
        "id": "6rHSeZy4ZWxv",
        "colab_type": "code",
        "colab": {}
      },
      "source": [
        ""
      ],
      "execution_count": 0,
      "outputs": []
    },
    {
      "cell_type": "markdown",
      "metadata": {
        "id": "As1W54enatmP",
        "colab_type": "text"
      },
      "source": [
        "Create a dict with keys:  1 -5          and values:^2 of the keys"
      ]
    },
    {
      "cell_type": "code",
      "metadata": {
        "id": "L3GH8is0bER5",
        "colab_type": "code",
        "outputId": "8eb68d38-25bf-44a9-9d94-cd6050a4c7df",
        "colab": {
          "base_uri": "https://localhost:8080/",
          "height": 51
        }
      },
      "source": [
        "power_dict ={\"1\":1,\"2\": 4, \n",
        "             \"3\": 9,\n",
        "             \"4\": 16,\n",
        "             \"5\": 25}\n",
        "print(power_dict)\n",
        "power_dict[\"5\"] = 5**5\n",
        "print(power_dict)"
      ],
      "execution_count": 6,
      "outputs": [
        {
          "output_type": "stream",
          "text": [
            "{'1': 1, '2': 4, '3': 9, '4': 16, '5': 25}\n",
            "{'1': 1, '2': 4, '3': 9, '4': 16, '5': 3125}\n"
          ],
          "name": "stdout"
        }
      ]
    },
    {
      "cell_type": "markdown",
      "metadata": {
        "id": "aEWcuhBIgl4L",
        "colab_type": "text"
      },
      "source": [
        "Modules: Pre-written code that are imported to perfom certain functions\n",
        "To acces any function in a module, yiu call the module plus the function to perform"
      ]
    },
    {
      "cell_type": "code",
      "metadata": {
        "id": "SP9U11iCg9Xy",
        "colab_type": "code",
        "outputId": "d551e879-bc5c-499c-e9be-a5491743a64e",
        "colab": {
          "base_uri": "https://localhost:8080/",
          "height": 34
        }
      },
      "source": [
        "import math\n",
        "number = 100\n",
        "sqr = math.sqrt(100)\n",
        "#print(sqr)\n",
        "squares = {1:(int(math.pow(1,2))),2:(int(math.pow(2,2))),3:(int(math.pow(3,2))),4:(int(math.pow(4,2))),5:(int(math.pow(5,2)))}\n",
        "print(squares)"
      ],
      "execution_count": 7,
      "outputs": [
        {
          "output_type": "stream",
          "text": [
            "{1: 1, 2: 4, 3: 9, 4: 16, 5: 25}\n"
          ],
          "name": "stdout"
        }
      ]
    }
  ]
}